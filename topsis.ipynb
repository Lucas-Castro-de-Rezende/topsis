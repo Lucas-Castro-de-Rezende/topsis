{
 "cells": [
  {
   "cell_type": "code",
   "execution_count": 1,
   "id": "a5ca3b73-729a-4fb9-8c56-96d488686c72",
   "metadata": {},
   "outputs": [],
   "source": [
    "import numpy as np"
   ]
  },
  {
   "cell_type": "raw",
   "id": "ab3d1c39-6301-49e2-a932-591590cdce83",
   "metadata": {},
   "source": [
    "Import .csv data and weight"
   ]
  },
  {
   "cell_type": "code",
   "execution_count": 17,
   "id": "602f91c5-b663-4d86-86fd-c36bfc4ae8f6",
   "metadata": {},
   "outputs": [
    {
     "name": "stdout",
     "output_type": "stream",
     "text": [
      "[[1.5e+01 6.0e+00 2.5e+04 7.0e+00]\n",
      " [1.2e+01 7.0e+00 3.5e+04 7.0e+00]\n",
      " [1.0e+01 9.0e+00 5.5e+04 8.0e+00]] \n",
      "\n",
      "[0.3  0.05 0.6  0.05]\n"
     ]
    }
   ],
   "source": [
    "pokelist = np.genfromtxt(\"pokemons.csv\", delimiter=\",\")\n",
    "weight = np.genfromtxt(\"weight.csv\",  delimiter=\",\")\n",
    "\n",
    "print(pokelist, \"\\n\")\n",
    "print(weight)"
   ]
  },
  {
   "cell_type": "code",
   "execution_count": 18,
   "id": "a0bc4cd5-9296-4cdd-a102-23fc5aa36479",
   "metadata": {},
   "outputs": [
    {
     "name": "stdout",
     "output_type": "stream",
     "text": [
      "[[0.69263564 0.46569032 0.35805744 0.54997194]\n",
      " [0.55410852 0.54330537 0.50128041 0.54997194]\n",
      " [0.4617571  0.69853547 0.78772636 0.62853936]]\n",
      "[[0.20779069 0.02328452 0.21483446 0.0274986 ]\n",
      " [0.16623255 0.02716527 0.30076825 0.0274986 ]\n",
      " [0.13852713 0.03492677 0.47263582 0.03142697]]\n"
     ]
    }
   ],
   "source": [
    "normalized_pokelist = np.sqrt((pokelist**2).sum(0))\n",
    "\n",
    "normalized_pokelist = pokelist / normalized_pokelist\n",
    "print(normalized_pokelist)\n",
    "\n",
    "weighted_pokelist = normalized_pokelist * weight\n",
    "print(weighted_pokelist)"
   ]
  },
  {
   "cell_type": "code",
   "execution_count": 21,
   "id": "1a059e1a-c5c4-44de-8110-63424366cfc4",
   "metadata": {},
   "outputs": [
    {
     "name": "stdout",
     "output_type": "stream",
     "text": [
      "[0.13852713 0.03492677 0.21483446 0.03142697]\n",
      "[0.20779069 0.02328452 0.47263582 0.0274986 ]\n"
     ]
    }
   ],
   "source": [
    "maxs = weighted_pokelist.max(0)\n",
    "mins = weighted_pokelist.min(0)\n",
    "\n",
    "best_option = np.array([mins[0], maxs[1], mins[2], maxs[3]])\n",
    "worst_option = np.array([maxs[0], mins[1], maxs[2], mins[3]])\n",
    "\n",
    "print(best_option)\n",
    "print(worst_option)"
   ]
  },
  {
   "cell_type": "code",
   "execution_count": 22,
   "id": "ab68f9d1-0369-44cf-8d62-925bc01c7d10",
   "metadata": {},
   "outputs": [
    {
     "name": "stdout",
     "output_type": "stream",
     "text": [
      "[0.07034498 0.09070766 0.25780135]\n",
      "[0.25780135 0.17686323 0.07034498]\n"
     ]
    }
   ],
   "source": [
    "d_best = (best_option - weighted_pokelist)**2\n",
    "d_worst = (worst_option - weighted_pokelist)**2\n",
    "\n",
    "d_best = np.sqrt(d_best.sum(1))\n",
    "d_worst = np.sqrt(d_worst.sum(1))\n",
    "\n",
    "print(d_best)\n",
    "print(d_worst)"
   ]
  },
  {
   "cell_type": "code",
   "execution_count": 23,
   "id": "04fae827-acb6-43a9-93ac-79fd4965f11c",
   "metadata": {},
   "outputs": [
    {
     "data": {
      "text/plain": [
       "array([0.78562925, 0.66099579, 0.21437075])"
      ]
     },
     "execution_count": 23,
     "metadata": {},
     "output_type": "execute_result"
    }
   ],
   "source": [
    "relative_proximity = d_worst / (d_best + d_worst)\n",
    "relative_proximity"
   ]
  },
  {
   "cell_type": "code",
   "execution_count": 24,
   "id": "5a2e26a3-35d3-47ed-a957-f50503fc1cb8",
   "metadata": {},
   "outputs": [
    {
     "data": {
      "image/png": "[encoded data removed]",
      "text/plain": [
       "<Figure size 432x288 with 1 Axes>"
      ]
     },
     "metadata": {
      "needs_background": "light"
     },
     "output_type": "display_data"
    }
   ],
   "source": [
    "import matplotlib.pyplot as plt\n",
    "\n",
    "fig = plt.figure()\n",
    "ax = fig.add_axes([0,0,1,1])\n",
    "cars = ['Car 1', 'Car 2', 'Car 3']\n",
    "ax.bar(cars, relative_proximity)\n",
    "plt.grid(1)\n",
    "plt.show()"
   ]
  }
 ],
 "metadata": {
  "kernelspec": {
   "display_name": "Python 3 (ipykernel)",
   "language": "python",
   "name": "python3"
  },
  "language_info": {
   "codemirror_mode": {
    "name": "ipython",
    "version": 3
   },
   "file_extension": ".py",
   "mimetype": "text/x-python",
   "name": "python",
   "nbconvert_exporter": "python",
   "pygments_lexer": "ipython3",
   "version": "3.9.7"
  }
 },
 "nbformat": 4,
 "nbformat_minor": 5
}
