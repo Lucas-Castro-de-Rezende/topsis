{
 "cells": [
  {
   "cell_type": "code",
   "execution_count": 1,
   "id": "a5ca3b73-729a-4fb9-8c56-96d488686c72",
   "metadata": {},
   "outputs": [],
   "source": [
    "import numpy as np"
   ]
  },
  {
   "cell_type": "raw",
   "id": "ab3d1c39-6301-49e2-a932-591590cdce83",
   "metadata": {},
   "source": [
    "Import .csv data and weight"
   ]
  },
  {
   "cell_type": "code",
   "execution_count": 201,
   "id": "602f91c5-b663-4d86-86fd-c36bfc4ae8f6",
   "metadata": {},
   "outputs": [
    {
     "name": "stdout",
     "output_type": "stream",
     "text": [
      "[[1.5e+01 6.0e+00 2.5e+04 7.0e+00]\n",
      " [1.2e+01 7.0e+00 3.5e+04 7.0e+00]\n",
      " [1.0e+01 9.0e+00 5.5e+04 8.0e+00]] \n",
      "\n",
      "[0.3  0.05 0.6  0.05]\n"
     ]
    }
   ],
   "source": [
    "pokelist = np.genfromtxt(\"pokemons.csv\", delimiter=\",\")\n",
    "weight = np.genfromtxt(\"weight.csv\",  delimiter=\",\")\n",
    "\n",
    "print(pokelist, \"\\n\")\n",
    "print(weight)"
   ]
  },
  {
   "cell_type": "code",
   "execution_count": 203,
   "id": "a0bc4cd5-9296-4cdd-a102-23fc5aa36479",
   "metadata": {},
   "outputs": [
    {
     "name": "stdout",
     "output_type": "stream",
     "text": [
      "[[5.99999851e-04 2.39999940e-04 9.99999752e-01 2.79999931e-04]\n",
      " [3.42857109e-04 1.99999980e-04 9.99999901e-01 1.99999980e-04]\n",
      " [1.81818174e-04 1.63636357e-04 9.99999960e-01 1.45454540e-04]]\n",
      "[0.60020585 0.6001228  0.60006998]\n"
     ]
    }
   ],
   "source": [
    "normalized_pokelist = np.sqrt((pokelist**2).sum(1))\n",
    "normalized_pokelist.resize(normalized_pokelist.size, 1)\n",
    "\n",
    "normalized_pokelist = pokelist / normalized_pokelist\n",
    "print(normalized_pokelist)\n",
    "\n",
    "result = np.dot(normalized_pokelist, weight)\n",
    "print(result)"
   ]
  },
  {
   "cell_type": "code",
   "execution_count": 108,
   "id": "1a059e1a-c5c4-44de-8110-63424366cfc4",
   "metadata": {},
   "outputs": [
    {
     "data": {
      "text/plain": [
       "array([0.69263564, 0.69853547, 0.78772636, 0.62853936])"
      ]
     },
     "execution_count": 108,
     "metadata": {},
     "output_type": "execute_result"
    }
   ],
   "source": []
  }
 ],
 "metadata": {
  "kernelspec": {
   "display_name": "Python 3 (ipykernel)",
   "language": "python",
   "name": "python3"
  },
  "language_info": {
   "codemirror_mode": {
    "name": "ipython",
    "version": 3
   },
   "file_extension": ".py",
   "mimetype": "text/x-python",
   "name": "python",
   "nbconvert_exporter": "python",
   "pygments_lexer": "ipython3",
   "version": "3.9.7"
  }
 },
 "nbformat": 4,
 "nbformat_minor": 5
}
